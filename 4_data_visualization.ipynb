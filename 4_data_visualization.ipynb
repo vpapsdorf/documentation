{
 "cells": [
  {
   "cell_type": "markdown",
   "metadata": {},
   "source": [
    "# Daten visualisieren\n",
    "## Design\n",
    "Da es sich um die Beratung des Bundesrats handelt, ist das Design daran angelehnt.\n",
    "\n",
    "### Schrift\n",
    "Auf der [Seite des Bundesrats](https://www.bundesrat.de/DE/homepage/homepage-node.html) ist sowohl serifenlose als auch Serifenschrift zu finden. Da beide Möglichkeiten offen stehen, wird in den im Projekt gezeigten Grafiken Serifenschrift verwendet. Für Fließtext wird eine serifenlose Schrift bevorzugt, weshalb die Absätze im Report in Arial verfasst sind.\n",
    "\n",
    "### Farben\n",
    "Auf der [Seite des Bundesrats](https://www.bundesrat.de/DE/homepage/homepage-node.html) lassen sich vornehmlich folgende Farben finden:\n",
    "| Farbname | HEX |\n",
    "| --- | --- |\n",
    "| Rot | #810a26 |\n",
    "| Dunkelrot | #4c0a18 |\n",
    "| Hellgrau | #eeeeee |\n",
    "| Dunkelgrau | #666666 |\n",
    "| Weiß | #ffffff |\n",
    "\n",
    "Ein noch dunkleres Grau wurde für die Präsentation und den Report verwendet.\n",
    "\n",
    "Zur besseren Visualisierung wird in den Grafiken auch noch ein heller Rotton und ein weiterer Grauton verwendet:\n",
    "| Farbname | HEX |\n",
    "| --- | --- |\n",
    "| Hellrot | #b00e34 |\n",
    "| Grau | #b3b3b3 |"
   ]
  },
  {
   "cell_type": "raw",
   "metadata": {},
   "source": [
    "# colors\n",
    "\n",
    "# neutral\n",
    "light_grey = '#eeeeee'\n",
    "grey = '#b3b3b3'\n",
    "dark_grey = '#666666'\n",
    "white = '#ffffff'\n",
    "\n",
    "# reading habits\n",
    "red = '#810a26'\n",
    "dark_red = '#4c0a18'\n",
    "light_red = '#b00e34'"
   ]
  },
  {
   "cell_type": "markdown",
   "metadata": {},
   "source": [
    "## Grafiken erstellen\n",
    "Alle Grafiken werden als Vektorgrafiken exportieren, damit sie im Report und in der Präsentation besser aussehen."
   ]
  },
  {
   "cell_type": "raw",
   "metadata": {},
   "source": [
    "# import modules\n",
    "import pandas as pd\n",
    "import numpy as np\n",
    "import plotly.express as px\n",
    "import plotly.graph_objects as go"
   ]
  },
  {
   "cell_type": "markdown",
   "metadata": {},
   "source": [
    "Zunächst muss die csv-Datei geladen und als Dataframe gespeichert werden."
   ]
  },
  {
   "cell_type": "raw",
   "metadata": {},
   "source": [
    "df = pd.read_csv('./data/ebooks_data.csv', delimiter=',', header=[0])\n",
    "df['year'] = df['year'].astype(np.datetime64)\n",
    "\n",
    "gfk_df_data = pd.read_csv('./data/gfk_data.csv', delimiter=',', header=[0])"
   ]
  },
  {
   "cell_type": "markdown",
   "metadata": {},
   "source": [
    "### Wie groß ist der Anteil der aktiven Leser*innen - gesamt und digital?\n",
    "- Slope Graph, damit zu erkennen ist, dass die Entwicklung nicht besonders dynamisch ist\n",
    "- Um die Entwicklung sind die einzelnen Werte nicht relevant, deshalb ist es kein Liniendiagramm\n",
    "- Zur Orientierung ist die 0%- und 100%-Grenze gekennzeichnet. Zudem ist die y-Achse benannt"
   ]
  },
  {
   "cell_type": "raw",
   "metadata": {},
   "source": [
    "fig = go.Figure()\n",
    "\n",
    "# preparation\n",
    "year_list = [df['year.1'].iloc[-4], df['year.1'].iloc[-1]] # 2017 and 2020\n",
    "\n",
    "# two traces for readers and digital readers\n",
    "fig.add_trace(go.Scatter(x=year_list,\n",
    "                            name='Leser*innen gesamt',\n",
    "                            y=[df['perc_readers'].iloc[-4], df['perc_readers'].iloc[-1]],\n",
    "                            mode='lines+markers+text', \n",
    "                            text=[f\"{round(df['perc_readers'].iloc[-4]*100, 1)} %\", f\"{round(df['perc_readers'].iloc[-1]*100, 1)} %\"],\n",
    "                            textposition=['top center', 'top center'],\n",
    "                            line_color=red))\n",
    "\n",
    "fig.add_trace(go.Scatter(x=year_list,\n",
    "                            name='Leser*innen digital',\n",
    "                            y=[df['perc_digital_readers'].iloc[-4], df['perc_digital_readers'].iloc[-1]],\n",
    "                            mode='lines+markers+text', \n",
    "                            text=[f\"{round(df['perc_digital_readers'].iloc[-4]*100, 1)} %\", f\"{round(df['perc_digital_readers'].iloc[-1]*100, 1)} %\"],\n",
    "                            textposition=['top center', 'top center'],\n",
    "                            line_color=dark_red))\n",
    "\n",
    "fig.update_traces(hovertemplate='%{x}')\n",
    "\n",
    "# guiding traces\n",
    "fig.add_trace(go.Scatter(x=year_list, y=[0, 0], mode='lines', line=dict(color=grey, width=2), showlegend=False))\n",
    "fig.add_trace(go.Scatter(x=year_list, y=[1, 1], mode='lines', line=dict(color=grey, width=2), showlegend=False))\n",
    "\n",
    "# annotations with trace names\n",
    "fig.add_annotation(x=2018.5, y=0.45, text='Leser*innen gesamt', showarrow=False, font=dict(size=14, color=red))\n",
    "fig.add_annotation(x=2018.5, y=0.15, text='Leser*innen digital', showarrow=False, font=dict(size=14, color=dark_red))\n",
    "\n",
    "fig.update_layout(title='Leseverhalten der Deutschen',\n",
    "                    title_font_size=25,\n",
    "                    xaxis_title='Jahr',\n",
    "                    yaxis_title='Anteil an Gesamtbevölkerung',\n",
    "                    font_family='Gravitas One',\n",
    "                    font_color=dark_grey,\n",
    "                    plot_bgcolor=white,\n",
    "                    width=700,\n",
    "                    showlegend=False,\n",
    "                   )\n",
    "\n",
    "# axes\n",
    "fig.update_xaxes(title_text='Jahr', ticks='outside', tick0=2017, dtick=3, tickcolor=grey, fixedrange=True, tickwidth=2)\n",
    "fig.update_yaxes(range=[0,1], tickformat='.0%', dtick=1)\n",
    "\n",
    "fig.show()"
   ]
  },
  {
   "cell_type": "raw",
   "metadata": {},
   "source": [
    "fig.write_image(\"images/readers.svg\")"
   ]
  },
  {
   "cell_type": "markdown",
   "metadata": {},
   "source": [
    "### Wie hoch ist der Anteil an aktiven Bibliotheksnutzer*innen an aktiven Leser\\*innen?\n",
    "- Das Balkendiagramm eignet sich, um den Anteil der Bibliotheksnutzer*innen über die Jahre zu zeigen\n",
    "- Die aktuellesten, repräsentativen Daten sind hervorgehoben (2019, vor der Covid-19-Pandemie)\n",
    "- Da die Bibliotheksnutzung durch die Covid-19-Pandemie zurückgegangen ist, werden die Daten ausgegraut, weil sie nicht belastbar sind"
   ]
  },
  {
   "cell_type": "raw",
   "metadata": {},
   "source": [
    "fig = go.Figure()\n",
    "\n",
    "# preparation\n",
    "colors1 = [light_red, ] * 3\n",
    "colors1.append(grey)\n",
    "\n",
    "colors2 = [light_grey, ] * 4\n",
    "\n",
    "perc_lenders_readers_2019 = f\"{round(df['perc_lenders_readers'][9]*100)} %\"\n",
    "perc_lenders_readers_2020 = f\"{round(df['perc_lenders_readers'][10]*100)} %\"\n",
    "\n",
    "# two bar groups lending and non-lending readers\n",
    "fig.add_trace(go.Bar(x=df['year.1'][7:12], y=df['perc_lenders_readers'][7:12], name='aktive Bibliotheksnutzer*innen', width=0.6, marker_color=colors1))\n",
    "fig.add_trace(go.Bar(x=df['year.1'][7:12], y=df['perc_nonlending_readers'][7:12], name='keine Bibliotheksnutzer*innen', width=0.6, marker_color=colors2))\n",
    "fig.update_traces(hovertemplate='%{x}: %{y}')\n",
    "\n",
    "# annotation for covid-19\n",
    "fig.add_annotation(x=2020, y=0.05, text=\"Covid-19\", showarrow=False, font=dict(size=12, color=dark_grey))\n",
    "fig.add_annotation(x=2020, y=0.3, text=perc_lenders_readers_2020, showarrow=False, font=dict(size=12, color=dark_grey), bgcolor=white,\n",
    "                    opacity=0.8, bordercolor=dark_grey, borderpad=4)\n",
    "\n",
    "# annotation for 2019, representative data\n",
    "fig.add_annotation(x=2019, y=0.3, text=perc_lenders_readers_2019, showarrow=False, font=dict(size=12, color=red), bgcolor=white,\n",
    "                    opacity=0.8, bordercolor=red, borderpad=4)\n",
    "\n",
    "# layout\n",
    "fig.update_layout(title='Aktive Bibliotheksnutzer*innen',\n",
    "                    title_font_size=25,\n",
    "                    xaxis_title='Jahr',\n",
    "                    yaxis_title='Anteil an aktiven Leser*innen',\n",
    "                    font_family='Gravitas One',\n",
    "                    font_color=dark_grey,\n",
    "                    plot_bgcolor=white,\n",
    "                    width=700,\n",
    "                    barmode='stack',\n",
    "                   )\n",
    "\n",
    "# axes\n",
    "fig.update_xaxes(title_text='Jahr', ticks='outside', tick0=2017, tickcolor=grey, fixedrange=True, linecolor=grey)\n",
    "fig.update_yaxes(range=[0,1], tickformat='.0%', dtick=1, linecolor=grey)\n",
    "                   \n",
    "fig.show()"
   ]
  },
  {
   "cell_type": "raw",
   "metadata": {},
   "source": [
    "fig.write_image(\"images/lenders.svg\")"
   ]
  },
  {
   "cell_type": "markdown",
   "metadata": {},
   "source": [
    "### Wie verändern sich die Ausleih- und Verkaufszahlen in den letzten Jahren?\n",
    "- Das Balkendiagramm eignet sich, um die Veränderung der Zahlen zum Vorjahr zu zeigen\n",
    "- Diese Grafik wurde ins Dashboard übertragen, damit man beide Kategorien unabhängig voneinander zeigen kann\n",
    "- Zur Orientierung wurde die 0%-Grenze eingezeichnet"
   ]
  },
  {
   "cell_type": "raw",
   "metadata": {},
   "source": [
    "fig = go.Figure()\n",
    "\n",
    "# lendings and sales\n",
    "fig.add_trace(go.Bar(x=df['year.1'][:8], y=df['lendings_change'], name='Entleihungen', marker_color=red, width=0.3))\n",
    "fig.add_trace(go.Bar(x=df['year.1'][:8], y=df['sales_change'], name='Verkäufe', marker_color=dark_red, width=0.3))\n",
    "\n",
    "fig.add_trace(go.Scatter(x=(2010, 2018), y=(0,0), showlegend=False, line_color=dark_grey, line_width=0.3))\n",
    "\n",
    "fig.update_layout(\n",
    "                    title=\"Veränderungen der Verkäufe und Entleihungen zum Vorjahr\",\n",
    "                    title_font_size=25,\n",
    "                    xaxis_title=\"Jahr\",\n",
    "                    yaxis_title=\"Anzahl an Büchern\",\n",
    "                    font_family=\"Gravitas One\",\n",
    "                    font_color=dark_grey,\n",
    "                    plot_bgcolor=white,\n",
    "                    width=800,\n",
    "                )\n",
    "\n",
    "fig.update_xaxes(title_text='Jahr', range=[2010.5, 2017.5], ticks='inside', fixedrange=True, tickcolor=grey, tickwidth=1, linecolor=grey, dtick=1)\n",
    "fig.update_yaxes(tick0=0, ticks='inside', range=[-13000000,13000000], fixedrange=True, tickcolor=grey, linecolor=grey)\n",
    "\n",
    "fig.show()"
   ]
  },
  {
   "cell_type": "raw",
   "metadata": {},
   "source": [
    "fig.write_image(\"images/changes_lendings_sales.svg\")"
   ]
  },
  {
   "cell_type": "markdown",
   "metadata": {},
   "source": [
    "### Wie viele Bücher werden ausgeliehen/gekauft (aufgeschlüsselt)?\n",
    "- Das Liniendiagramm eignet sich, um die Veränderung der Zahlen zum Vorjahr zu zeigen\n",
    "- Diese Grafik wurde ins Dashboard übertragen, damit man beide Kategorien unabhängig voneinander zeigen kann"
   ]
  },
  {
   "cell_type": "raw",
   "metadata": {},
   "source": [
    "fig = go.Figure()\n",
    "\n",
    "# analog\n",
    "fig.add_trace(go.Scatter(x=df['year.1'][:8], y=df['book_sales'], name='Verkäufe analog', line=dict(color=light_red, width=2), mode='lines+text'))\n",
    "fig.add_trace(go.Scatter(x=df['year.1'][:8], y=df['print_lendings'], name='Entleihungen analog', line=dict(color=dark_red, width=2), mode='lines+text'))\n",
    "\n",
    "fig.add_annotation(x=2010.5, y=330000000, text=\"analog\", showarrow=False, font=dict(size=12, color=dark_grey), bgcolor=white, opacity=0.8, bordercolor=dark_grey, borderpad=4)\n",
    "fig.add_annotation(x=2017, y=350000000, text=\"Verkäufe\", showarrow=False, font=dict(size=12, color=light_red))\n",
    "fig.add_annotation(x=2017, y=230000000, text=\"Entleihungen\", showarrow=False, font=dict(size=12, color=dark_red))\n",
    "\n",
    "fig.add_hrect(y0=200000000, y1=420000000, fillcolor=grey, opacity=0.2, line=dict(color=dark_grey, width=1))\n",
    "\n",
    "#digital\n",
    "fig.add_trace(go.Scatter(x=df['year.1'][:8], y=df['ebook_sales'], name='Verkäufe digital', line=dict(color=light_red, width=2), mode='lines+text'))\n",
    "fig.add_trace(go.Scatter(x=df['year.1'][:8], y=df['digital_lendings'], name='Entleihungen digital', line=dict(color=dark_red, width=2), mode='lines+text'))\n",
    "\n",
    "fig.add_annotation(x=2010.5, y=50000000, text=\"digital\", showarrow=False, font=dict(size=12, color=dark_grey), bgcolor=white, opacity=0.8, bordercolor=dark_grey, borderpad=4)\n",
    "fig.add_annotation(x=2017, y=50000000, text=\"Verkäufe\", showarrow=False, font=dict(size=12, color=light_red))\n",
    "fig.add_annotation(x=2017, y=8000000, text=\"Entleihungen\", showarrow=False, font=dict(size=12, color=dark_red))\n",
    "\n",
    "fig.add_hrect(y0=0, y1=100000000, fillcolor=grey, opacity=0.2, line=dict(color=grey, width=1))\n",
    "\n",
    "# layout\n",
    "fig.update_layout(title='Verkaufs- und Entleihzahlen',\n",
    "                    title_font_size=25,\n",
    "                    \n",
    "                    xaxis_title='Jahr',\n",
    "                    yaxis_title='Anzahl Bücher',\n",
    "                    font_family='Gravitas One',\n",
    "                    font_color=dark_grey,\n",
    "                    plot_bgcolor=white,\n",
    "                    width=800,\n",
    "                    showlegend=False,\n",
    "                   )\n",
    "\n",
    "fig.update_xaxes(title_text='Jahr', ticks='inside', fixedrange=True, tickcolor=grey, tickwidth=1, linecolor=grey, dtick=1)\n",
    "fig.update_yaxes(tick0=0, ticks='inside', tickcolor=grey, linecolor=grey, range=[0,420000000])\n",
    "\n",
    "fig.show()"
   ]
  },
  {
   "cell_type": "raw",
   "metadata": {},
   "source": [
    "fig.write_image(\"images/lendings_purchases.svg\")"
   ]
  },
  {
   "cell_type": "markdown",
   "metadata": {},
   "source": [
    "### Wie ist das Kaufverhalten?\n",
    "- Das Balkendiagramm eignet sich für die kategorialen Daten\n",
    "- Weil die Darstellung recht komplex ist, wurde sie ins Dashboard übernommen\n",
    "- Im Dashboard werden die Zahlen der einzelnen Kategorien zunächst summiert und angezeigt (siehe nächste Grafik), also wie viele Bücher insgesamt gekauft werden (siehe unten)\n",
    "- Die Aufschlüsselung in analoge und digitale Bücher wird erst danach gezeigt"
   ]
  },
  {
   "cell_type": "raw",
   "metadata": {},
   "source": [
    "fig = px.bar(gfk_df_data, x=\"buyer\", y=\"purchases_per_buyer\", color='medium', barmode='group',\n",
    "                    color_discrete_map={\n",
    "                        'analog': light_red,\n",
    "                        'digital': dark_red,\n",
    "                    })\n",
    "                    \n",
    "fig.add_trace(go.Scatter(x=['Gesamt', \"Entleiher*innen digital\"], y=[0.15, 0.15], mode='lines', line=dict(color=red, width=1), showlegend=False))\n",
    "\n",
    "fig.update_layout(title='Kaufverhalten',\n",
    "                    title_font_size=25,\n",
    "                    xaxis_title='Art der Käufer*innen',\n",
    "                    yaxis_title='Durchschnittl. Anzahl an Büchern',\n",
    "                    font_family='Gravitas One',\n",
    "                    font_color=dark_grey,\n",
    "                    width=800,\n",
    "                    plot_bgcolor=white,\n",
    "                    legend_title_text='Art des Buchs'\n",
    "                )\n",
    "\n",
    "fig.update_xaxes(fixedrange=True, linecolor=grey, dtick=1)\n",
    "fig.update_yaxes(tick0=0, ticks='inside', range=[0,1], tickcolor=grey, linecolor=grey, tickformat='.2')"
   ]
  },
  {
   "cell_type": "raw",
   "metadata": {},
   "source": [
    "fig.write_image(\"images/buying_habits.svg\")"
   ]
  },
  {
   "cell_type": "raw",
   "metadata": {},
   "source": [
    "overview_df = gfk_df_data.groupby(['buyer']).mean().sort_values(by='buyer', ascending=False)\n",
    "\n",
    "fig = px.bar(overview_df, y=\"purchases_per_buyer\")\n",
    "fig.update_traces(marker_color=[red, red, red])\n",
    "\n",
    "fig.update_layout(title='Kaufverhalten',\n",
    "                title_font_size=25,\n",
    "                xaxis_title='Art der Käufer*innen',\n",
    "                yaxis_title='Anzahl an Büchern',\n",
    "                font_family='Gravitas One',\n",
    "                font_color=dark_grey,\n",
    "                plot_bgcolor=white,\n",
    "                legend_title_text='Art des Buchs',\n",
    "                width=600,\n",
    "            )\n",
    "\n",
    "fig.update_xaxes(fixedrange=True, linecolor=grey, dtick=1)\n",
    "fig.update_yaxes(tick0=0, ticks='inside', tickcolor=grey, linecolor=grey, tickformat='.2')"
   ]
  },
  {
   "cell_type": "raw",
   "metadata": {},
   "source": [
    "fig.write_image(\"images/buying_habits2.svg\")"
   ]
  }
 ],
 "metadata": {
  "interpreter": {
   "hash": "6d436a48376a16dfa39ee918280eb1c9c6d4483027c56a3670162842bfb5f7a9"
  },
  "kernelspec": {
   "display_name": "Python 3.8.11 64-bit ('dash': conda)",
   "language": "python",
   "name": "python3"
  },
  "language_info": {
   "codemirror_mode": {
    "name": "ipython",
    "version": 3
   },
   "file_extension": ".py",
   "mimetype": "text/x-python",
   "name": "python",
   "nbconvert_exporter": "python",
   "pygments_lexer": "ipython3",
   "version": "3.8.8"
  },
  "orig_nbformat": 4
 },
 "nbformat": 4,
 "nbformat_minor": 2
}
