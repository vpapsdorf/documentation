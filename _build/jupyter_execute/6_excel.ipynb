{
 "cells": [
  {
   "cell_type": "markdown",
   "metadata": {},
   "source": [
    "# Excel\n",
    "\n",
    "Der Report wurde in Word erstellt und als PDF exportiert. Dazu gibt es ein Excel-Sheet mit den wichtigsten Daten.\n",
    "## Vorbereitung"
   ]
  },
  {
   "cell_type": "code",
   "execution_count": 1,
   "metadata": {},
   "outputs": [
    {
     "name": "stdout",
     "output_type": "stream",
     "text": [
      "_\n"
     ]
    }
   ],
   "source": [
    "\"\"\" import pandas as pd\n",
    "\n",
    "# colors\n",
    "\n",
    "# neutral\n",
    "light_grey = '#eeeeee'\n",
    "grey = '#b3b3b3'\n",
    "dark_grey = '#666666'\n",
    "white = '#ffffff'\n",
    "\n",
    "red = '#810a26'\n",
    "dark_red = '#4c0a18'\n",
    "light_red = '#b00e34' \"\"\"\n",
    "\n",
    "print('_')"
   ]
  },
  {
   "cell_type": "code",
   "execution_count": 2,
   "metadata": {},
   "outputs": [
    {
     "name": "stdout",
     "output_type": "stream",
     "text": [
      "_\n"
     ]
    }
   ],
   "source": [
    "\"\"\" writer = pd.ExcelWriter('report_data.xlsx', engine='xlsxwriter')\n",
    "\n",
    "# select data\n",
    "df = pd.read_csv('./data/ebooks_data.csv', delimiter=',', header=[0])\n",
    "gfk_df_data = pd.read_csv('./data/gfk_data.csv', delimiter=',', header=[0]) \"\"\"\n",
    "\n",
    "print('_')"
   ]
  },
  {
   "cell_type": "markdown",
   "metadata": {},
   "source": [
    "## Ausführung\n",
    "### Lesverhalten in Deutschland (Sheet 1)\n",
    "Die Zahlen werden eingefärbt, damit man sieht, dass beides leicht zugenommen hat. Zudem wird eine Grafik erstellt."
   ]
  },
  {
   "cell_type": "code",
   "execution_count": 3,
   "metadata": {},
   "outputs": [
    {
     "name": "stdout",
     "output_type": "stream",
     "text": [
      "_\n"
     ]
    }
   ],
   "source": [
    "# select and alter data\n",
    "\"\"\" df1 = df.loc[7:10, ['year.1', 'readers', 'digital_readers']]\n",
    "df1['readers'] = df1['readers'].astype(int)\n",
    "df1['digital_readers'] = df1['digital_readers'].astype(int)\n",
    "df1.rename(columns={'year.1': 'Jahr', 'readers': 'Leser*innen gesamt', 'digital_readers': 'Leser*innen digital'}, inplace=True)\n",
    "df1 = df1.set_index('Jahr') \"\"\"\n",
    "\n",
    "print('_')"
   ]
  },
  {
   "cell_type": "code",
   "execution_count": 4,
   "metadata": {},
   "outputs": [
    {
     "name": "stdout",
     "output_type": "stream",
     "text": [
      "_\n"
     ]
    }
   ],
   "source": [
    "# write and design data\n",
    "\"\"\" df1.to_excel(writer, sheet_name='Daten1', startrow=2)\n",
    "\n",
    "book = writer.book\n",
    "sheet1 = writer.sheets['Daten1']\n",
    "\n",
    "bold = book.add_format({'bold': True, 'size': 24})\n",
    "italic = book.add_format({'italic': True})\n",
    "\n",
    "sheet1.write('A1', 'Leseverhalten in Deutschland', bold)\n",
    "sheet1.write('A17', 'Basierend auf Daten von IfD Allensbach (2021a, 2021b)', italic)\n",
    "\n",
    "sheet1.set_column('B:C', 20)\n",
    "\n",
    "sheet1.conditional_format('B4:B8', {'type': '2_color_scale', 'min_color': light_grey, 'max_color': grey})\n",
    "sheet1.conditional_format('C4:C8', {'type': '2_color_scale', 'min_color': light_grey, 'max_color': grey}) \"\"\"\n",
    "\n",
    "print('_')\n"
   ]
  },
  {
   "cell_type": "code",
   "execution_count": 5,
   "metadata": {},
   "outputs": [
    {
     "name": "stdout",
     "output_type": "stream",
     "text": [
      "_\n"
     ]
    }
   ],
   "source": [
    "# chart\n",
    "\"\"\" chart1 = book.add_chart({'type': 'column', 'title': 'Leseverhalten in Deutschland'})\n",
    "\n",
    "chart1.add_series({\n",
    "    'categories': '=Daten1!A4:A7',\n",
    "    'values': '=Daten1!B4:B7',\n",
    "    'name': '=Daten1!B3',\n",
    "    'fill': {'color': red},\n",
    "    })\n",
    "chart1.add_series({\n",
    "    'categories': '=Daten1!A4:A7',\n",
    "    'values': '=Daten1!C4:C7',\n",
    "    'name': '=Daten1!C3',\n",
    "    'fill': {'color': dark_red}\n",
    "    })\n",
    "\n",
    "chart1.set_x_axis({'name': 'Jahr'})\n",
    "\n",
    "sheet1.insert_chart('F2', chart1) \"\"\"\n",
    "\n",
    "print('_')"
   ]
  },
  {
   "cell_type": "markdown",
   "metadata": {},
   "source": [
    "## Aktive Bibliotheksnutzer*innen (Sheet 2)"
   ]
  },
  {
   "cell_type": "code",
   "execution_count": 6,
   "metadata": {},
   "outputs": [
    {
     "name": "stdout",
     "output_type": "stream",
     "text": [
      "_\n"
     ]
    }
   ],
   "source": [
    "# select and alter data\n",
    "\"\"\" df2 = df.loc[7:10, ['year.1', 'lenders']]\n",
    "df2.rename(columns={'year.1': 'Jahr', 'lenders': 'Bibliotheksnutzer*innen gesamt'}, inplace=True)\n",
    "df2 = df2.set_index('Jahr') \"\"\"\n",
    "\n",
    "print('_')"
   ]
  },
  {
   "cell_type": "code",
   "execution_count": 7,
   "metadata": {},
   "outputs": [
    {
     "name": "stdout",
     "output_type": "stream",
     "text": [
      "_\n"
     ]
    }
   ],
   "source": [
    "# write and design data\n",
    "\"\"\" df2.to_excel(writer, sheet_name='Daten2', startrow=2)\n",
    "\n",
    "book = writer.book\n",
    "sheet2 = writer.sheets['Daten2']\n",
    "\n",
    "bold = book.add_format({'bold': True, 'size': 24})\n",
    "italic = book.add_format({'italic': True})\n",
    "\n",
    "sheet2.write('A1', 'Aktive Bibliotheksnutzer*innen', bold)\n",
    "sheet2.write('A17', 'Basierend auf Daten von IfD Allensbach (2021b) und Deutsche Bibliotheksstatistik (2010–2020)', italic)\n",
    "\n",
    "sheet2.set_column('B:B', 30) \"\"\"\n",
    "\n",
    "print('_')"
   ]
  },
  {
   "cell_type": "code",
   "execution_count": 8,
   "metadata": {},
   "outputs": [
    {
     "name": "stdout",
     "output_type": "stream",
     "text": [
      "_\n"
     ]
    }
   ],
   "source": [
    "# chart\n",
    "\"\"\" chart2 = book.add_chart({'type': 'column', 'title': 'Leseverhalten in Deutschland'})\n",
    "\n",
    "chart2.add_series({\n",
    "    'categories': '=Daten2!A4:A7',\n",
    "    'values': '=Daten2!B4:B7',\n",
    "    'name': '=Daten2!B3',\n",
    "    'fill': {'color': red},\n",
    "    })\n",
    "\n",
    "chart2.set_x_axis({'name': 'Jahr'})\n",
    "\n",
    "sheet2.insert_chart('F2', chart2) \"\"\"\n",
    "\n",
    "print('_')"
   ]
  },
  {
   "cell_type": "markdown",
   "metadata": {},
   "source": [
    "### Veränderungen der Verläufe und Entleihungen zum Vorjahr (Sheet 3)\n",
    "Um sichtbar zu machen, ob die Veränderungen positiv oder negativ war, wurde ein Balken in die einzelnen Zellen eingefügt."
   ]
  },
  {
   "cell_type": "code",
   "execution_count": 9,
   "metadata": {},
   "outputs": [
    {
     "name": "stdout",
     "output_type": "stream",
     "text": [
      "_\n"
     ]
    }
   ],
   "source": [
    "# select and alter data\n",
    "\"\"\" df3 = df.loc[1:7, ['year.1', 'lendings_change', 'sales_change']]\n",
    "df3.rename(columns={'year.1': 'Jahr', 'lendings_change': 'Entleihungen', 'sales_change': 'Verkäufe'}, inplace=True)\n",
    "df3 = df3.set_index('Jahr') \"\"\"\n",
    "\n",
    "print('_')"
   ]
  },
  {
   "cell_type": "code",
   "execution_count": 10,
   "metadata": {},
   "outputs": [
    {
     "name": "stdout",
     "output_type": "stream",
     "text": [
      "_\n"
     ]
    }
   ],
   "source": [
    "# write and design data\n",
    "\"\"\" df3.to_excel(writer, sheet_name='Daten3', startrow=2)\n",
    "\n",
    "book = writer.book\n",
    "sheet3 = writer.sheets['Daten3']\n",
    "\n",
    "bold = book.add_format({'bold': True, 'size': 24})\n",
    "italic = book.add_format({'italic': True})\n",
    "\n",
    "sheet3.write('A1', 'Veränderungen der Verläufe und Entleihungen zum Vorjahr', bold)\n",
    "sheet3.write('A12', 'Basierend auf Daten von Börsenverein des Deutschen Buchhandels (2021), Börsenblatt & Börsenverein des Deutschen Buchhandels (2018) und Deutsche Bibliotheksstatistik (2010–2020)', italic)\n",
    "\n",
    "sheet3.set_column('B:C', 40)\n",
    "\n",
    "format3 = book.add_format({'font_color': light_red})\n",
    "sheet3.conditional_format('B4:B10', {'type': 'data_bar', 'bar_solid': True})\n",
    "sheet3.conditional_format('C4:C10', {'type': 'data_bar', 'bar_solid': True}) \"\"\"\n",
    "\n",
    "print('_')"
   ]
  },
  {
   "cell_type": "markdown",
   "metadata": {},
   "source": [
    "### Verkaufs- und Einleihzahlen (Sheet 4)\n",
    "Um die Zahlen besser einschätzen zu können, werden die einzelnen Zellen mit Farben versehen. Zudem wurde auch eine Grafik erstellt."
   ]
  },
  {
   "cell_type": "code",
   "execution_count": 11,
   "metadata": {},
   "outputs": [
    {
     "name": "stdout",
     "output_type": "stream",
     "text": [
      "_\n"
     ]
    }
   ],
   "source": [
    "# select and alter data\n",
    "\"\"\" df4 = df.loc[0:7, ['year.1', 'print_lendings', 'book_sales', 'digital_lendings', 'ebook_sales']]\n",
    "df4.rename(columns={\n",
    "    'year.1': 'Jahr',\n",
    "    'print_lendings': 'Entleihungen analog',\n",
    "    'book_sales': 'Verkäufe analog',\n",
    "    'digital_lendings': 'Entleihungen digital',\n",
    "    'ebook_sales': 'Verkäufe digital'},\n",
    "    inplace=True)\n",
    "df4 = df4.set_index('Jahr')\n",
    " \"\"\"\n",
    "print('_')"
   ]
  },
  {
   "cell_type": "code",
   "execution_count": 12,
   "metadata": {},
   "outputs": [
    {
     "name": "stdout",
     "output_type": "stream",
     "text": [
      "_\n"
     ]
    }
   ],
   "source": [
    "# write and design data\n",
    "\"\"\" df4.to_excel(writer, sheet_name='Daten4', startrow=2)\n",
    "\n",
    "book = writer.book\n",
    "sheet4 = writer.sheets['Daten4']\n",
    "\n",
    "bold = book.add_format({'bold': True, 'size': 24})\n",
    "italic = book.add_format({'italic': True})\n",
    "\n",
    "sheet4.write('A1', 'Verkaufs- und Entleihzahlen', bold)\n",
    "sheet4.write('A17', 'Basierend auf Daten von Börsenverein des Deutschen Buchhandels (2021), Börsenblatt & Börsenverein des Deutschen Buchhandels (2018) und Deutsche Bibliotheksstatistik (2010–2020)', italic)\n",
    "\n",
    "sheet4.set_column('B:E', 18)\n",
    "\n",
    "format4 = book.add_format({'font_color': light_red})\n",
    "sheet4.conditional_format('B4:B11', {'type': '3_color_scale'})\n",
    "sheet4.conditional_format('C4:C11', {'type': '3_color_scale'})\n",
    "sheet4.conditional_format('D4:D11', {'type': '3_color_scale'})\n",
    "sheet4.conditional_format('E4:E11', {'type': '3_color_scale'}) \"\"\"\n",
    "\n",
    "print('_')"
   ]
  },
  {
   "cell_type": "code",
   "execution_count": 13,
   "metadata": {},
   "outputs": [
    {
     "name": "stdout",
     "output_type": "stream",
     "text": [
      "_\n"
     ]
    }
   ],
   "source": [
    "# chart\n",
    "\"\"\" chart4 = book.add_chart({'type': 'line', 'title': 'Leseverhalten in Deutschland', 'width': 1000})\n",
    "\n",
    "chart4.add_series({\n",
    "    'categories': '=Daten4!A4:A11',\n",
    "    'values': '=Daten4!B4:B11',\n",
    "    'name': '=Daten4!B3',\n",
    "    'line': {'color': light_red},\n",
    "    })\n",
    "\n",
    "chart4.add_series({\n",
    "    'categories': '=Daten4!A4:A11',\n",
    "    'values': '=Daten4!C4:C11',\n",
    "    'name': '=Daten4!C3',\n",
    "    'line': {'color': dark_red},\n",
    "    })\n",
    "\n",
    "chart4.add_series({\n",
    "    'categories': '=Daten4!A4:A11',\n",
    "    'values': '=Daten4!D4:D11',\n",
    "    'name': '=Daten4!D3',\n",
    "    'line': {'color': grey},\n",
    "    })\n",
    "\n",
    "chart4.add_series({\n",
    "    'categories': '=Daten4!A4:A11',\n",
    "    'values': '=Daten4!E4:E11',\n",
    "    'name': '=Daten4!E3',\n",
    "    'line': {'color': dark_grey},\n",
    "    })\n",
    "\n",
    "chart4.set_x_axis({'name': 'Jahr'})\n",
    "\n",
    "sheet4.insert_chart('G2', chart4) \"\"\"\n",
    "\n",
    "print('_')"
   ]
  },
  {
   "cell_type": "markdown",
   "metadata": {},
   "source": [
    "### Kaufverhalten (Sheet 5)\n",
    "Die einzelnen Kategorien der Art des Buchs werden farblich gekennzeichnet. Zudem wurden Balken in die Zellen der Anzahl der Bücher pro Käufer*in hinzugefügt."
   ]
  },
  {
   "cell_type": "code",
   "execution_count": 14,
   "metadata": {},
   "outputs": [
    {
     "name": "stdout",
     "output_type": "stream",
     "text": [
      "_\n"
     ]
    }
   ],
   "source": [
    "# select and alter data\n",
    "\"\"\" df5 =gfk_df_data.loc[0:6, ['buyer', 'medium', 'purchases', 'buyer_no', 'purchases_per_buyer']]\n",
    "\n",
    "df5['purchases_per_buyer'] = round(df5['purchases_per_buyer'], 2)\n",
    "\n",
    "df5.rename(columns={\n",
    "    'buyer': 'Käufer*innen',\n",
    "    'medium': 'Art des Buchs',\n",
    "    'purchases': 'Durchschnittl. Käufe',\n",
    "    'buyer_no': 'Anzahl der Käufer*innen',\n",
    "    'purchases_per_buyer': 'Anz. an Büchern pro Käufer*in'},\n",
    "    inplace=True) \"\"\"\n",
    "\n",
    "print('_')"
   ]
  },
  {
   "cell_type": "code",
   "execution_count": 15,
   "metadata": {},
   "outputs": [
    {
     "name": "stdout",
     "output_type": "stream",
     "text": [
      "_\n"
     ]
    }
   ],
   "source": [
    "# write and design data\n",
    "\"\"\" df5.to_excel(writer, sheet_name='Daten5', startrow=2)\n",
    "\n",
    "book = writer.book\n",
    "sheet5 = writer.sheets['Daten5']\n",
    "\n",
    "bold = book.add_format({'bold': True, 'size': 24})\n",
    "italic = book.add_format({'italic': True})\n",
    "\n",
    "sheet5.write('A1', 'Kaufverhalten', bold)\n",
    "sheet5.write('A11', 'Basierend auf Daten von GfK (2019, S. 35)', italic)\n",
    "\n",
    "sheet5.set_column('B:F', 25)\n",
    "\n",
    "format5a = book.add_format({'bg_color': light_red, 'font_color': white})\n",
    "format5b = book.add_format({'bg_color': dark_red, 'font_color': white})\n",
    "sheet5.conditional_format('C4:C9', {'type': 'cell', 'criteria': '==', 'value': '\"analog\"', 'format': format5a})\n",
    "sheet5.conditional_format('C4:C9', {'type': 'cell', 'criteria': '==', 'value': '\"digital\"', 'format': format5b})\n",
    "sheet5.conditional_format('F4:F9', {'type': 'data_bar', 'bar_solid': True}) \"\"\"\n",
    "\n",
    "print('_')"
   ]
  },
  {
   "cell_type": "markdown",
   "metadata": {},
   "source": [
    "### Quellen und Excel-Datei speichern"
   ]
  },
  {
   "cell_type": "code",
   "execution_count": 16,
   "metadata": {},
   "outputs": [
    {
     "name": "stdout",
     "output_type": "stream",
     "text": [
      "_\n"
     ]
    }
   ],
   "source": [
    "# write and design data\n",
    "\"\"\" book = writer.book\n",
    "sheet6 = book.add_worksheet('Quellen')\n",
    "\n",
    "sheet6.write('A1', 'Börsenblatt & Börsenverein des Deutschen Buchhandels. (2018, 7. Juni). Absatz von Büchern in Deutschland in den Jahren 2004 bis 2017 (in Millionen Titel) [Graph]. In Statista. Zugriff am 09. Februar 2022, von https://de.statista.com/statistik/daten/studie/416380/umfrage/absatz-von-buechern-in-deutschland/')\n",
    "sheet6.write('A2', 'Börsenverein des Deutschen Buchhandels. (2021, 9. September). Absatz von E-Books im Publikumsmarkt in Deutschland in den Jahren 2010 bis zum 1. Halbjahr 2021 (in Millionen Stück) [Graph]. In Statista. Zugriff am 09. Februar 2022, von https://de.statista.com/statistik/daten/studie/232191/umfrage/absatz-von-e-books-in-deutschland/')\n",
    "sheet6.write('A3', 'Deutsche Bibliotheksstatistik. (2010–2020). Variable Auswertung (eigens erstellt) [Datensatz]. Deutsche Bibliotheksstatistik. https://www.bibliotheksstatistik.de/')\n",
    "sheet6.write('A4', 'GfK. (2019, November). Wer leiht was in Bibliotheken und insbesondere online? Börsenverein des Deutschen Buchhandels. https://www.boersenverein.de/tx_file_download?tx_theme_pi1%5BfileUid%5D=3840&tx_theme_pi1%5Breferer%5D=https%3A%2F%2Fwww.boersenverein.de%2Fmarkt-daten%2Fmarktforschung%2Fstudien-umfragen%2Fstudie-zur-onleihe-2019%2F&cHash=5e0d2b87985fa82117a341edfad37027')\n",
    "sheet6.write('A5', 'IfD Allensbach. (2021a, 28. Juni). Anzahl der Personen in Deutschland, die Bücher auf elektronischen Geräten (E-Reader, Tablet-PC, Smartphone) lesen, von 2017 bis 2021 (in Millionen) [Graph]. In Statista. Abgerufen am 09. Januar 2022, von https://de.statista.com/statistik/daten/studie/265230/umfrage/e-reader-tablet-smartphone-lesen-von-buechern-auf-elektronischen-geraeten/')\n",
    "sheet6.write('A6', 'IfD Allensbach. (2021b, 28. Juni). Anzahl der Personen in Deutschland, die Bücher lesen, nach Häufigkeit von 2017 bis 2021 (in Millionen) [Graph]. In Statista. Abgerufen am 09. Januar 2022, von https://de.statista.com/statistik/daten/studie/171231/umfrage/haeufigkeit-des-lesens-von-einem-buch/')\n",
    "\n",
    "sheet6.set_column('A:A', 250) \"\"\"\n",
    "\n",
    "print('_')"
   ]
  },
  {
   "cell_type": "code",
   "execution_count": 17,
   "metadata": {},
   "outputs": [
    {
     "name": "stdout",
     "output_type": "stream",
     "text": [
      "_\n"
     ]
    }
   ],
   "source": [
    "\"\"\" # save\n",
    "writer.save() \"\"\"\n",
    "\n",
    "print('_')"
   ]
  }
 ],
 "metadata": {
  "interpreter": {
   "hash": "513dc2e41d739bb2c947903f3c0bbf636d03aa53ab50e61c694a27481c81805e"
  },
  "kernelspec": {
   "display_name": "Python 3.8.8 ('base')",
   "language": "python",
   "name": "python3"
  },
  "language_info": {
   "codemirror_mode": {
    "name": "ipython",
    "version": 3
   },
   "file_extension": ".py",
   "mimetype": "text/x-python",
   "name": "python",
   "nbconvert_exporter": "python",
   "pygments_lexer": "ipython3",
   "version": "3.7.11"
  }
 },
 "nbformat": 4,
 "nbformat_minor": 2
}