{
 "cells": [
  {
   "cell_type": "markdown",
   "metadata": {},
   "source": [
    "# Daten explorieren"
   ]
  },
  {
   "cell_type": "code",
   "execution_count": 1,
   "metadata": {},
   "outputs": [],
   "source": [
    "# colors\n",
    "\n",
    "# neutral\n",
    "light_grey = '#eeeeee'\n",
    "grey = '#b3b3b3'\n",
    "dark_grey = '#666666'\n",
    "white = '#ffffff'\n",
    "\n",
    "# reading habits\n",
    "red = '#810a26'\n",
    "dark_red = '#4c0a18'\n",
    "light_red = '#b00e34'\n",
    "\n",
    "# publishers\n",
    "green = '#827C17'\n",
    "light_green = '#979348'\n",
    "\n",
    "# libraries\n",
    "blue = '#176682'\n",
    "light_blue = '#63B2CF'\n",
    "dark_blue = '#10475b'"
   ]
  },
  {
   "cell_type": "markdown",
   "metadata": {},
   "source": [
    "## Grafiken erstellen"
   ]
  },
  {
   "cell_type": "code",
   "execution_count": 2,
   "metadata": {},
   "outputs": [
    {
     "name": "stdout",
     "output_type": "stream",
     "text": [
      "_\n"
     ]
    }
   ],
   "source": [
    "\"\"\" # import modules\n",
    "import pandas as pd\n",
    "import numpy as np\n",
    "import plotly.graph_objects as go\n",
    "import plotly.express as px \"\"\"\n",
    "\n",
    "print('_')"
   ]
  },
  {
   "cell_type": "code",
   "execution_count": 3,
   "metadata": {},
   "outputs": [
    {
     "name": "stdout",
     "output_type": "stream",
     "text": [
      "_\n"
     ]
    }
   ],
   "source": [
    "\"\"\" df = pd.read_csv('./data/ebooks_data.csv', delimiter=',', header=[0])\n",
    "df['year'] = df['year'].astype(np.datetime64)\n",
    "\n",
    "gfk_df_data = pd.read_csv('./data/gfk_data.csv', delimiter=',', header=[0]) \"\"\"\n",
    "\n",
    "print('_')\n"
   ]
  },
  {
   "cell_type": "markdown",
   "metadata": {},
   "source": [
    "### Wie viele aktive Bibliotheksnutzer*innen gibt es in Deutschland?\n",
    "Diese Grafik wurde in der Präsentation nicht verwendet.\n",
    "\n",
    "![Grafik](images/exploration1.svg)"
   ]
  },
  {
   "cell_type": "code",
   "execution_count": 4,
   "metadata": {},
   "outputs": [
    {
     "name": "stdout",
     "output_type": "stream",
     "text": [
      "_\n"
     ]
    }
   ],
   "source": [
    "\"\"\" fig = go.Figure()\n",
    "\n",
    "# lenders\n",
    "fig.add_trace(go.Scatter(x=df['year.1'], y=df['perc_lenders'], name='aktive Bibliotheksnutzer*innen', line=dict(color=light_blue, width=2), showlegend=False, mode='lines+text'))\n",
    "fig.add_trace(go.Scatter(x=df['year.1'][:-1], y=df['perc_lenders'], name='aktive Bibliotheksnutzer*innen', line=dict(color=blue, width=2), mode='lines+text'))\n",
    "\n",
    "perc_lenders_2010 = f\"{round(df['perc_lenders'][0]*100, 1)} %\"\n",
    "fig.add_annotation(x=2010, y=0.15, text=perc_lenders_2010, showarrow=False, font=dict(size=12, color=blue), bgcolor=white)\n",
    "perc_lenders_2019 = f\"{round(df['perc_lenders'][9]*100, 1)} %\"\n",
    "fig.add_annotation(x=2019, y=0.15, text=perc_lenders_2019, showarrow=False, font=dict(size=12, color=blue), bgcolor=white,)\n",
    "\n",
    "# annotation for covid-19\n",
    "fig.add_annotation(x=2020, y=0.9, text=\"Covid-19\", showarrow=False, font=dict(size=12, color=dark_grey))\n",
    "fig.add_vrect(x0='2019.5', x1='2020.5', fillcolor=light_grey, opacity=0.2, line=dict(color=dark_grey, width=1))\n",
    "\n",
    "fig.update_layout(title='Aktive Bibliotheksnutzer*innen',\n",
    "                    title_font_size=25,\n",
    "                    \n",
    "                    xaxis_title='Jahr',\n",
    "                    yaxis_title='Anteil an Gesamtbevölkerung',\n",
    "                    font_family='Gravitas One',\n",
    "                    font_color=dark_grey,\n",
    "                    plot_bgcolor=white,\n",
    "                    width=700,\n",
    "                    showlegend=False,\n",
    "                   )\n",
    "\n",
    "fig.update_xaxes(title_text='Jahr', ticks='inside', fixedrange=True, tickcolor=grey, tickwidth=1, linecolor=grey, dtick=1)\n",
    "fig.update_yaxes(tick0=0, dtick=0.25, ticks='inside', tickformat=\".0%\", fixedrange=True, range=[0,1], tickcolor=grey, linecolor=grey)\n",
    "\n",
    "fig.show() \"\"\"\n",
    "\n",
    "print('_')"
   ]
  },
  {
   "cell_type": "markdown",
   "metadata": {},
   "source": [
    "### Wie viele Bücher werden pro gekauftes Buch entliehen - analog und digital?\n",
    "Diese Grafik wurde in der Präsentation nicht verwendet.\n",
    "\n",
    "![Grafik](images/exploration2.svg)"
   ]
  },
  {
   "cell_type": "code",
   "execution_count": 5,
   "metadata": {},
   "outputs": [
    {
     "name": "stdout",
     "output_type": "stream",
     "text": [
      "_\n"
     ]
    }
   ],
   "source": [
    "\"\"\" fig = go.Figure()\n",
    "\n",
    "category = ['analog', 'digital']\n",
    "mean_lendings = [df['lendings_per_sale'].mean(axis=0), df['ebook_lendings_per_sale'].mean(axis=0)]\n",
    "\n",
    "fig.add_trace(go.Bar(x=category, y=mean_lendings, name='Verkäufe', showlegend=False, marker_color=blue, width=0.4))\n",
    "\n",
    "fig.update_layout(title='Entliehene Bücher pro gekauftes Buch',\n",
    "                    title_font_size=25,\n",
    "                    yaxis_title='Anzahl Bücher',\n",
    "                    font_family='Gravitas One',\n",
    "                    font_color=dark_grey,\n",
    "                    plot_bgcolor=white,\n",
    "                    width=500,\n",
    "                    showlegend=False,\n",
    "                   )\n",
    "\n",
    "fig.update_xaxes(fixedrange=True, linecolor=grey, dtick=1)\n",
    "fig.update_yaxes(tick0=0, ticks='inside', range=[0,1], fixedrange=True, tickcolor=grey, linecolor=grey) \"\"\"\n",
    "\n",
    "print('_')"
   ]
  }
 ],
 "metadata": {
  "interpreter": {
   "hash": "6d436a48376a16dfa39ee918280eb1c9c6d4483027c56a3670162842bfb5f7a9"
  },
  "kernelspec": {
   "display_name": "Python 3.8.11 64-bit ('dash': conda)",
   "language": "python",
   "name": "python3"
  },
  "language_info": {
   "codemirror_mode": {
    "name": "ipython",
    "version": 3
   },
   "file_extension": ".py",
   "mimetype": "text/x-python",
   "name": "python",
   "nbconvert_exporter": "python",
   "pygments_lexer": "ipython3",
   "version": "3.7.11"
  }
 },
 "nbformat": 4,
 "nbformat_minor": 2
}